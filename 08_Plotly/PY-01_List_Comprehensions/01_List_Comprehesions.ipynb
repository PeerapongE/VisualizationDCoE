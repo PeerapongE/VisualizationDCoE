{
 "cells": [
  {
   "cell_type": "markdown",
   "metadata": {},
   "source": [
    "# Python 101: Let's get started\n",
    "## List Comprehensions\n",
    "\n",
    "<img src=\"Pic_data/Python_Logo.png\" width = 400>\n",
    "\n",
    "\n",
    "<img src=\"Pic_data/PY-01_Elephant.jpg\" width = 400>\n",
    "\n",
    "https://www.facebook.com/elephant.data.th/"
   ]
  },
  {
   "cell_type": "markdown",
   "metadata": {},
   "source": [
    "#### List comprehensions \n",
    "\n",
    "ช่วยให้การสร้าง List สั้นและกระชับมากขึ้น โดยจะประกอบไปด้วย วงเล็บ(Brackets)\n",
    "\n",
    "ที่มีคำสั่ง (Expression) ที่ตามด้วย for clause อยู่ข้างในวงเล็บ ซึ่งอาจจะตามด้วย for หรือ if เพิ่มเติมอีกก็ได้ \n",
    "\n",
    "โดย Expression สามารถเป็นอะไรก็ได้ ซึ่งก็คือเราสามารถใส่ Object อะไรก็ได้ลงไปใน List นั่นเอง \n",
    "\n",
    "ซึ่งมีแพทเทิร์น ดังนี้\n",
    "\n",
    "# new_list  =  [  expression(i)  for  i  in  old_list  if  filter(i)  ]\n",
    "\n"
   ]
  },
  {
   "cell_type": "markdown",
   "metadata": {},
   "source": [
    "### เมื่อยังไม่รู้จัก List Comprehensions \n",
    "\n",
    "### ตัวอย่าง :\n",
    "\n",
    "* ต้องการเขียน operation เพื่อ หา ค่าตัวเลขใน list ที่หารด้วย 2 ลงตัว (%2 ==0)\n",
    "* แล้วคูณค่าด้วย 10\n",
    "* สร้างเป็น list ใหม่ขึ้นมา\n",
    "* ใช้ .append() เพื่อเก็บค่าเรื่อยๆ"
   ]
  },
  {
   "cell_type": "code",
   "execution_count": null,
   "metadata": {},
   "outputs": [],
   "source": [
    "old_list = [1,2,3,4,5,6,7,8,9,10]\n",
    "\n",
    "new_list = []\n",
    "for i in old_list:\n",
    "    if i%2 == 0 :\n",
    "        new_list.append(i*10)\n",
    "        \n",
    "print(new_list)"
   ]
  },
  {
   "cell_type": "markdown",
   "metadata": {},
   "source": [
    "#### จะเห็นได้ว่าเราเขียน Code ยาวมากเมื่อไม่รู้จัก List Comprehensions"
   ]
  },
  {
   "cell_type": "markdown",
   "metadata": {},
   "source": [
    "### เมื่อรู้จัก List Comprehensions\n",
    "\n",
    "# new_list  =  [  expression(i)  for  i  in  old_list  if  filter(i)  ]\n",
    "\n",
    "### ตัวอย่าง :"
   ]
  },
  {
   "cell_type": "code",
   "execution_count": null,
   "metadata": {},
   "outputs": [],
   "source": [
    "old_list"
   ]
  },
  {
   "cell_type": "code",
   "execution_count": null,
   "metadata": {},
   "outputs": [],
   "source": [
    "# new_list  =  [  expression(i)  for  i  in  old_list]\n",
    "new_list = [ i * 10 for i in old_list]\n",
    "new_list"
   ]
  },
  {
   "cell_type": "code",
   "execution_count": null,
   "metadata": {},
   "outputs": [],
   "source": [
    "# new_list_criteria  =  [  expression(i)  for  i  in  old_list  if  filter(i)  ]\n",
    "new_list_criteria = [ i * 10 for i in old_list if i%2 == 0]\n",
    "new_list_criteria"
   ]
  },
  {
   "cell_type": "markdown",
   "metadata": {},
   "source": [
    "## แบบฝึกหัด"
   ]
  },
  {
   "cell_type": "markdown",
   "metadata": {},
   "source": [
    "#### 1. จงเขียนคำสั่งเพื่อสร้าง list ชื่อว่า list_upper จาก list_lower = ['peerapong', 'supaporn' , 'chaiwat', 'sudarat'] ให้ทุก element เป็น\n",
    "\n",
    "####    ตัวอักษรพิมพ์ใหญ่  ด้วย List Comprehensions ( hint : ใช้ฟังก์ชัน x.upper() ) \n",
    "\n",
    "#   \n",
    "#### ผลลัพธ์ที่ต้องการ : \n",
    "\n",
    "\n",
    "<img src=\"Pic_data/Result_1.jpg\" width=\"480\" height=\"360\">\n",
    "#  "
   ]
  },
  {
   "cell_type": "code",
   "execution_count": null,
   "metadata": {},
   "outputs": [],
   "source": [
    "# Example การใช้ .upper จะแปลงเป็นตัวใหญ่\n",
    "('peerapong').upper()"
   ]
  },
  {
   "cell_type": "code",
   "execution_count": null,
   "metadata": {},
   "outputs": [],
   "source": [
    "list_lower = ['peerapong', 'supaporn' , 'chaiwat', 'sudarat']\n",
    "\n",
    "# เขียนโค้ดที่นี่ เติมใน xxxx\n",
    "\n",
    "list_upper = [ xxxx for name in list_lower]\n",
    "\n",
    "\n",
    "\n",
    "print(list_upper)"
   ]
  },
  {
   "cell_type": "code",
   "execution_count": null,
   "metadata": {},
   "outputs": [],
   "source": []
  },
  {
   "cell_type": "code",
   "execution_count": null,
   "metadata": {},
   "outputs": [],
   "source": []
  },
  {
   "cell_type": "code",
   "execution_count": null,
   "metadata": {},
   "outputs": [],
   "source": []
  },
  {
   "cell_type": "code",
   "execution_count": null,
   "metadata": {},
   "outputs": [],
   "source": []
  },
  {
   "cell_type": "markdown",
   "metadata": {},
   "source": [
    "### solution"
   ]
  },
  {
   "cell_type": "code",
   "execution_count": null,
   "metadata": {},
   "outputs": [],
   "source": [
    "list_lower = ['peerapong', 'supaporn' , 'chaiwat', 'sudarat']\n",
    "list_lower"
   ]
  },
  {
   "cell_type": "code",
   "execution_count": null,
   "metadata": {},
   "outputs": [],
   "source": [
    "list_upper = [ name.upper() for name in list_lower]\n",
    "list_upper"
   ]
  },
  {
   "cell_type": "markdown",
   "metadata": {},
   "source": [
    "#### 2. จงเขียนคำสั่งเพื่อสร้าง list ชื่อว่า list_nlen จาก list_lower = ['peerapong', 'supaporn' , 'chaiwat', 'sudarat'] ให้ทุก element\n",
    "\n",
    "#### 2.1    เป็นตัวเลขที่มาจากการนับจำนวนตัวอักษรของชื่อต่างๆใน list_lower\n",
    "\n",
    "#### 2.2    เป็นตัวเลขที่มาจากการนับจำนวนตัวอักษรของชื่อต่างๆใน list_lower โดยเอาเฉพาะจำนวนที่เป็น *เลขคู่เท่านั้น *\n",
    "\n",
    "#### ด้วย List Comprehensions ( hint : ใช้ฟังก์ชัน len(x) ได้ทั้งในส่วน expression และ ส่วนที่เป็น filter) \n",
    "\n",
    "###   \n",
    "\n",
    "#### ผลลัพธ์ที่ต้องการ : \n",
    "\n",
    "<img src=\"Pic_data/Result_2.jpg\" >\n",
    "\n"
   ]
  },
  {
   "cell_type": "code",
   "execution_count": null,
   "metadata": {},
   "outputs": [],
   "source": [
    "# เรียกดูค่าเดิมจาก List_lower\n",
    "list_lower = ['peerapong', 'supaporn' , 'chaiwat', 'sudarat']\n",
    "list_lower"
   ]
  },
  {
   "cell_type": "code",
   "execution_count": null,
   "metadata": {},
   "outputs": [],
   "source": [
    "# 2.1 เขียนโค้ดที่นี่  xxxx\n",
    "\n",
    "list_nlen = [ xxxx for name in list_lower]\n",
    "\n",
    "\n",
    "\n",
    "\n",
    "print(list_nlen)"
   ]
  },
  {
   "cell_type": "code",
   "execution_count": null,
   "metadata": {},
   "outputs": [],
   "source": [
    "# 2.2 เขียน code ที่นี่ เติมใน xxxx\n",
    "\n",
    "list_nlen_even = [ xxxx for name in list_lower if xxxx ]\n",
    "\n",
    "\n",
    "print(list_nlen_even)\n",
    "\n"
   ]
  },
  {
   "cell_type": "code",
   "execution_count": null,
   "metadata": {},
   "outputs": [],
   "source": []
  },
  {
   "cell_type": "code",
   "execution_count": null,
   "metadata": {},
   "outputs": [],
   "source": []
  },
  {
   "cell_type": "code",
   "execution_count": null,
   "metadata": {},
   "outputs": [],
   "source": []
  },
  {
   "cell_type": "code",
   "execution_count": null,
   "metadata": {},
   "outputs": [],
   "source": []
  },
  {
   "cell_type": "code",
   "execution_count": null,
   "metadata": {},
   "outputs": [],
   "source": []
  },
  {
   "cell_type": "code",
   "execution_count": null,
   "metadata": {},
   "outputs": [],
   "source": []
  },
  {
   "cell_type": "markdown",
   "metadata": {},
   "source": [
    "### Solution"
   ]
  },
  {
   "cell_type": "code",
   "execution_count": null,
   "metadata": {},
   "outputs": [],
   "source": [
    "list_lower = ['peerapong', 'supaporn' , 'chaiwat', 'sudarat']\n",
    "list_lower"
   ]
  },
  {
   "cell_type": "code",
   "execution_count": null,
   "metadata": {},
   "outputs": [],
   "source": [
    "# 2.1 - list comprehension โดยไม่มี condition\n",
    "list_nlen = [ len(name) for name in list_lower]\n",
    "list_nlen"
   ]
  },
  {
   "cell_type": "code",
   "execution_count": null,
   "metadata": {},
   "outputs": [],
   "source": [
    "# 2.2 - list comprehension with condition\n",
    "list_nlen_even = [ len(name) for name in list_lower if len(name) % 2 == 0]\n",
    "list_nlen_even"
   ]
  },
  {
   "cell_type": "code",
   "execution_count": null,
   "metadata": {},
   "outputs": [],
   "source": []
  }
 ],
 "metadata": {
  "kernelspec": {
   "display_name": "Python 3",
   "language": "python",
   "name": "python3"
  },
  "language_info": {
   "codemirror_mode": {
    "name": "ipython",
    "version": 3
   },
   "file_extension": ".py",
   "mimetype": "text/x-python",
   "name": "python",
   "nbconvert_exporter": "python",
   "pygments_lexer": "ipython3",
   "version": "3.7.0"
  }
 },
 "nbformat": 4,
 "nbformat_minor": 2
}
