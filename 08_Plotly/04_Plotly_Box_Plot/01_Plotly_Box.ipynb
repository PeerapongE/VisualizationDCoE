{
 "cells": [
  {
   "cell_type": "markdown",
   "metadata": {},
   "source": [
    "## Interactive Plot: Plotly\n",
    "\n",
    "https://plot.ly/python/box-plots/"
   ]
  },
  {
   "cell_type": "markdown",
   "metadata": {},
   "source": [
    "### Import module"
   ]
  },
  {
   "cell_type": "code",
   "execution_count": 2,
   "metadata": {},
   "outputs": [
    {
     "data": {
      "text/html": [
       "        <script type=\"text/javascript\">\n",
       "        window.PlotlyConfig = {MathJaxConfig: 'local'};\n",
       "        if (window.MathJax) {MathJax.Hub.Config({SVG: {font: \"STIX-Web\"}});}\n",
       "        if (typeof require !== 'undefined') {\n",
       "        require.undef(\"plotly\");\n",
       "        requirejs.config({\n",
       "            paths: {\n",
       "                'plotly': ['https://cdn.plot.ly/plotly-latest.min']\n",
       "            }\n",
       "        });\n",
       "        require(['plotly'], function(Plotly) {\n",
       "            window._Plotly = Plotly;\n",
       "        });\n",
       "        }\n",
       "        </script>\n",
       "        "
      ]
     },
     "metadata": {},
     "output_type": "display_data"
    }
   ],
   "source": [
    "import plotly.offline as pyo\n",
    "import plotly.graph_objs as go\n",
    "import pandas as pd\n",
    "pyo.init_notebook_mode(connected=True) "
   ]
  },
  {
   "cell_type": "markdown",
   "metadata": {},
   "source": [
    "### 1. Basic box plot"
   ]
  },
  {
   "cell_type": "code",
   "execution_count": null,
   "metadata": {},
   "outputs": [],
   "source": [
    "# create data\n",
    "# use go.Box istead of go.Scatter and go.Bar\n",
    "import plotly.plotly as py\n",
    "import plotly.graph_objs as go\n",
    "\n",
    "import numpy as np\n",
    "\n",
    "# create data\n",
    "y0 = np.random.randn(50)-1\n",
    "y1 = np.random.randn(50)+1\n",
    "\n",
    "\n",
    "# crate box object\n",
    "trace0 = go.Box(\n",
    "    y=y0\n",
    ")\n",
    "trace1 = go.Box(\n",
    "    y=y1\n",
    ")\n",
    "data = [trace0, trace1]\n",
    "\n"
   ]
  },
  {
   "cell_type": "code",
   "execution_count": null,
   "metadata": {},
   "outputs": [],
   "source": [
    "# create figure object\n",
    "fig = go.Figure(data = data, \n",
    "                #layout = layout\n",
    "               )\n",
    "\n",
    "# plot\n",
    "pyo.iplot(fig)"
   ]
  },
  {
   "cell_type": "markdown",
   "metadata": {},
   "source": [
    "### 2. Box Plot decoration"
   ]
  },
  {
   "cell_type": "code",
   "execution_count": null,
   "metadata": {},
   "outputs": [],
   "source": [
    "# crate box object\n",
    "trace0 = go.Box(\n",
    "    y=y0\n",
    ")\n",
    "trace1 = go.Box(\n",
    "    y=y1\n",
    ")\n",
    "\n",
    "# group data to trace\n",
    "data = [trace0, trace1]\n"
   ]
  },
  {
   "cell_type": "code",
   "execution_count": null,
   "metadata": {},
   "outputs": [],
   "source": [
    "# specify layout information\n",
    "\n",
    "layout = go.Layout(title = 'This is Basic Box Plot in Plotly', # Graph title\n",
    "                   xaxis = {'title': 'This is X-axis'}, # x-axis label\n",
    "                   yaxis = {'title': 'This is Y-axis'}, # y-axis label\n",
    "                   hovermode ='closest' # handles multiple points landing on the same vertical\n",
    ")"
   ]
  },
  {
   "cell_type": "code",
   "execution_count": null,
   "metadata": {},
   "outputs": [],
   "source": [
    "# create figure\n",
    "fig = go.Figure(data = data, layout = layout)"
   ]
  },
  {
   "cell_type": "code",
   "execution_count": null,
   "metadata": {},
   "outputs": [],
   "source": [
    "pyo.iplot(fig)"
   ]
  },
  {
   "cell_type": "markdown",
   "metadata": {},
   "source": [
    "### Exercise\n",
    "\n",
    "ชุดนี้จะทำ box plot และแสดงการ plot ค่าหลายๆ set ใน รูปเดียวกัน โดยการใช้ loop และ list comprehension"
   ]
  },
  {
   "cell_type": "code",
   "execution_count": 3,
   "metadata": {},
   "outputs": [
    {
     "data": {
      "text/html": [
       "<div>\n",
       "<style scoped>\n",
       "    .dataframe tbody tr th:only-of-type {\n",
       "        vertical-align: middle;\n",
       "    }\n",
       "\n",
       "    .dataframe tbody tr th {\n",
       "        vertical-align: top;\n",
       "    }\n",
       "\n",
       "    .dataframe thead th {\n",
       "        text-align: right;\n",
       "    }\n",
       "</style>\n",
       "<table border=\"1\" class=\"dataframe\">\n",
       "  <thead>\n",
       "    <tr style=\"text-align: right;\">\n",
       "      <th></th>\n",
       "      <th>ID</th>\n",
       "      <th>firstName</th>\n",
       "      <th>lastName</th>\n",
       "      <th>playPosition</th>\n",
       "      <th>team</th>\n",
       "      <th>Height</th>\n",
       "      <th>Weight</th>\n",
       "      <th>born</th>\n",
       "      <th>age</th>\n",
       "      <th>town</th>\n",
       "      <th>debut</th>\n",
       "      <th>yearInNBA</th>\n",
       "      <th>scoreMPG</th>\n",
       "      <th>scoreFGpct</th>\n",
       "      <th>scoreP3pct</th>\n",
       "      <th>scoreFTpct</th>\n",
       "      <th>scorePPG</th>\n",
       "      <th>scoreRPG</th>\n",
       "      <th>scoreAPG</th>\n",
       "      <th>scoreBPG</th>\n",
       "    </tr>\n",
       "  </thead>\n",
       "  <tbody>\n",
       "    <tr>\n",
       "      <th>0</th>\n",
       "      <td>1</td>\n",
       "      <td>Quincy</td>\n",
       "      <td>Acy</td>\n",
       "      <td>F</td>\n",
       "      <td>Nets</td>\n",
       "      <td>2.01</td>\n",
       "      <td>108.9</td>\n",
       "      <td>10/06/1990</td>\n",
       "      <td>27</td>\n",
       "      <td>Baylor</td>\n",
       "      <td>2012</td>\n",
       "      <td>6</td>\n",
       "      <td>16.1</td>\n",
       "      <td>44.7</td>\n",
       "      <td>35.6</td>\n",
       "      <td>76.1</td>\n",
       "      <td>5.0</td>\n",
       "      <td>3.5</td>\n",
       "      <td>0.6</td>\n",
       "      <td>0.4</td>\n",
       "    </tr>\n",
       "    <tr>\n",
       "      <th>1</th>\n",
       "      <td>2</td>\n",
       "      <td>Steven</td>\n",
       "      <td>Adams</td>\n",
       "      <td>C</td>\n",
       "      <td>Thunder</td>\n",
       "      <td>2.13</td>\n",
       "      <td>115.7</td>\n",
       "      <td>07/20/1993</td>\n",
       "      <td>25</td>\n",
       "      <td>Pittsburgh</td>\n",
       "      <td>2013</td>\n",
       "      <td>5</td>\n",
       "      <td>25.5</td>\n",
       "      <td>58.6</td>\n",
       "      <td>0.0</td>\n",
       "      <td>56.8</td>\n",
       "      <td>8.8</td>\n",
       "      <td>6.9</td>\n",
       "      <td>0.9</td>\n",
       "      <td>1.0</td>\n",
       "    </tr>\n",
       "    <tr>\n",
       "      <th>2</th>\n",
       "      <td>3</td>\n",
       "      <td>Arron</td>\n",
       "      <td>Afflalo</td>\n",
       "      <td>G</td>\n",
       "      <td>Magic</td>\n",
       "      <td>1.96</td>\n",
       "      <td>95.3</td>\n",
       "      <td>10/15/1985</td>\n",
       "      <td>32</td>\n",
       "      <td>UCLA</td>\n",
       "      <td>2007</td>\n",
       "      <td>11</td>\n",
       "      <td>27.3</td>\n",
       "      <td>45.0</td>\n",
       "      <td>38.6</td>\n",
       "      <td>82.5</td>\n",
       "      <td>10.8</td>\n",
       "      <td>2.9</td>\n",
       "      <td>1.8</td>\n",
       "      <td>0.2</td>\n",
       "    </tr>\n",
       "    <tr>\n",
       "      <th>3</th>\n",
       "      <td>4</td>\n",
       "      <td>Alexis</td>\n",
       "      <td>Ajinca</td>\n",
       "      <td>C</td>\n",
       "      <td>Pelicans</td>\n",
       "      <td>2.18</td>\n",
       "      <td>112.5</td>\n",
       "      <td>05/06/1988</td>\n",
       "      <td>30</td>\n",
       "      <td>Saint Etienne, France</td>\n",
       "      <td>2008</td>\n",
       "      <td>7</td>\n",
       "      <td>13.3</td>\n",
       "      <td>50.3</td>\n",
       "      <td>28.6</td>\n",
       "      <td>79.7</td>\n",
       "      <td>5.3</td>\n",
       "      <td>3.9</td>\n",
       "      <td>0.5</td>\n",
       "      <td>0.6</td>\n",
       "    </tr>\n",
       "    <tr>\n",
       "      <th>4</th>\n",
       "      <td>5</td>\n",
       "      <td>LaMarcus</td>\n",
       "      <td>Aldridge</td>\n",
       "      <td>F</td>\n",
       "      <td>Spurs</td>\n",
       "      <td>2.11</td>\n",
       "      <td>117.9</td>\n",
       "      <td>07/19/1985</td>\n",
       "      <td>33</td>\n",
       "      <td>Texas</td>\n",
       "      <td>2006</td>\n",
       "      <td>12</td>\n",
       "      <td>34.6</td>\n",
       "      <td>48.9</td>\n",
       "      <td>28.8</td>\n",
       "      <td>80.6</td>\n",
       "      <td>19.4</td>\n",
       "      <td>8.3</td>\n",
       "      <td>1.9</td>\n",
       "      <td>1.1</td>\n",
       "    </tr>\n",
       "  </tbody>\n",
       "</table>\n",
       "</div>"
      ],
      "text/plain": [
       "   ID firstName  lastName playPosition      team  Height  Weight        born  \\\n",
       "0   1    Quincy       Acy            F      Nets    2.01   108.9  10/06/1990   \n",
       "1   2    Steven     Adams            C   Thunder    2.13   115.7  07/20/1993   \n",
       "2   3     Arron   Afflalo            G     Magic    1.96    95.3  10/15/1985   \n",
       "3   4    Alexis    Ajinca            C  Pelicans    2.18   112.5  05/06/1988   \n",
       "4   5  LaMarcus  Aldridge            F     Spurs    2.11   117.9  07/19/1985   \n",
       "\n",
       "   age                   town  debut  yearInNBA  scoreMPG  scoreFGpct  \\\n",
       "0   27                 Baylor   2012          6      16.1        44.7   \n",
       "1   25             Pittsburgh   2013          5      25.5        58.6   \n",
       "2   32                   UCLA   2007         11      27.3        45.0   \n",
       "3   30  Saint Etienne, France   2008          7      13.3        50.3   \n",
       "4   33                  Texas   2006         12      34.6        48.9   \n",
       "\n",
       "   scoreP3pct  scoreFTpct  scorePPG  scoreRPG  scoreAPG  scoreBPG  \n",
       "0        35.6        76.1       5.0       3.5       0.6       0.4  \n",
       "1         0.0        56.8       8.8       6.9       0.9       1.0  \n",
       "2        38.6        82.5      10.8       2.9       1.8       0.2  \n",
       "3        28.6        79.7       5.3       3.9       0.5       0.6  \n",
       "4        28.8        80.6      19.4       8.3       1.9       1.1  "
      ]
     },
     "execution_count": 3,
     "metadata": {},
     "output_type": "execute_result"
    }
   ],
   "source": [
    "# read data\n",
    "nba_df = pd.read_excel('Data_NBA_Player_trim.xlsx', sheet_name = 'data')\n",
    "nba_df.head()"
   ]
  },
  {
   "cell_type": "code",
   "execution_count": 7,
   "metadata": {},
   "outputs": [
    {
     "data": {
      "text/plain": [
       "0      27\n",
       "5      20\n",
       "62     31\n",
       "81     26\n",
       "85     31\n",
       "100    25\n",
       "102    24\n",
       "106    33\n",
       "115    28\n",
       "155    26\n",
       "173    23\n",
       "275    27\n",
       "285    22\n",
       "322    22\n",
       "Name: age, dtype: int64"
      ]
     },
     "execution_count": 7,
     "metadata": {},
     "output_type": "execute_result"
    }
   ],
   "source": [
    "# extract age from individual team\n",
    "nba_df[nba_df['team'] == 'Nets']['age']"
   ]
  },
  {
   "cell_type": "markdown",
   "metadata": {},
   "source": [
    "### Exercise#1:\n",
    "สร้าง box plot แสดงค่า age ของทีม Bulls และ Hornets \n",
    "\n",
    "#### Hint\n",
    "* ดูตัวอย่างการดึง series ด้านบน"
   ]
  },
  {
   "cell_type": "code",
   "execution_count": 20,
   "metadata": {},
   "outputs": [],
   "source": [
    "# crate box object\n",
    "trace0   = go.Box(\n",
    "                  y    = nba_df[nba_df['xxxx'] == 'xxxx']['xxxx'],\n",
    "                  name = 'xxxx'\n",
    "                 )\n",
    "\n",
    "trace1   = go.Box(\n",
    "                  y    = nba_df[nba_df['xxxx'] == 'xxxx']['xxxx'],\n",
    "                  name = 'xxxx'\n",
    "                 )\n",
    "\n",
    "# group data to trace\n",
    "data = [trace0, trace1]"
   ]
  },
  {
   "cell_type": "code",
   "execution_count": null,
   "metadata": {},
   "outputs": [],
   "source": [
    "fig = go.Figure(data = data)"
   ]
  },
  {
   "cell_type": "code",
   "execution_count": null,
   "metadata": {},
   "outputs": [],
   "source": [
    "pyo.iplot(fig)"
   ]
  },
  {
   "cell_type": "code",
   "execution_count": null,
   "metadata": {},
   "outputs": [],
   "source": []
  },
  {
   "cell_type": "code",
   "execution_count": null,
   "metadata": {},
   "outputs": [],
   "source": []
  },
  {
   "cell_type": "code",
   "execution_count": null,
   "metadata": {},
   "outputs": [],
   "source": []
  },
  {
   "cell_type": "code",
   "execution_count": null,
   "metadata": {},
   "outputs": [],
   "source": []
  },
  {
   "cell_type": "code",
   "execution_count": null,
   "metadata": {},
   "outputs": [],
   "source": []
  },
  {
   "cell_type": "markdown",
   "metadata": {},
   "source": [
    "#### Solution"
   ]
  },
  {
   "cell_type": "code",
   "execution_count": null,
   "metadata": {},
   "outputs": [],
   "source": [
    "# crate box object\n",
    "trace0   = go.Box(\n",
    "                  y    = nba_df[nba_df['team'] == 'Bulls']['age'],\n",
    "                  name = 'Bulls'\n",
    "                 )\n",
    "\n",
    "trace1   = go.Box(\n",
    "                  y    = nba_df[nba_df['team'] == 'Hornets']['age'],\n",
    "                  name = 'Hornets'\n",
    "                 )\n",
    "\n",
    "# group data to trace\n",
    "data = [trace0, trace1]"
   ]
  },
  {
   "cell_type": "code",
   "execution_count": 21,
   "metadata": {},
   "outputs": [],
   "source": [
    "fig = go.Figure(data = data)"
   ]
  },
  {
   "cell_type": "code",
   "execution_count": null,
   "metadata": {},
   "outputs": [],
   "source": [
    "pyo.iplot(fig)"
   ]
  },
  {
   "cell_type": "markdown",
   "metadata": {},
   "source": [
    "### What should we do if we want to visualize all teams?\n",
    "\n",
    "เราต้องเขียน trace 30 ครั้ง?"
   ]
  },
  {
   "cell_type": "code",
   "execution_count": 24,
   "metadata": {},
   "outputs": [
    {
     "data": {
      "text/plain": [
       "Index(['Bulls', 'Hornets', 'Blazers', 'Pacers', 'Nets', 'Celtics', 'Kings',\n",
       "       'Jazz', 'Magic', 'Nuggets', 'Sixers', 'Hawks', 'Lakers', 'Suns',\n",
       "       'Raptors', 'Knicks', 'Bucks', 'Pelicans', 'Grizzlies', 'Thunder',\n",
       "       'Pistons', 'Heat', 'Timberwolves', 'Wizards', 'Clippers', 'Spurs',\n",
       "       'Warriors', 'Mavericks', 'Cavaliers', 'Rockets'],\n",
       "      dtype='object', name='team')"
      ]
     },
     "execution_count": 24,
     "metadata": {},
     "output_type": "execute_result"
    }
   ],
   "source": [
    "# getting unique name of team (sorted by mean value)\n",
    "unique_name = nba_df.groupby('team').mean()['age'].sort_values().index\n",
    "unique_name"
   ]
  },
  {
   "cell_type": "markdown",
   "metadata": {},
   "source": [
    "### Exercise\n",
    "ใช้ for loop ในการ สร้าง trace เป็น list ไว้"
   ]
  },
  {
   "cell_type": "code",
   "execution_count": null,
   "metadata": {},
   "outputs": [],
   "source": [
    "trace_list = []\n",
    "\n",
    "for team_name in unique_name:\n",
    "    trace_temp   = go.Box(\n",
    "                          y    = nba_df[nba_df['xxxx'] == xxxx]['xxxx'],\n",
    "                          name = xxxx\n",
    "                         )\n",
    "    trace_list.append(trace_temp)\n",
    "    \n",
    "data = trace_list"
   ]
  },
  {
   "cell_type": "code",
   "execution_count": null,
   "metadata": {},
   "outputs": [],
   "source": [
    "fig = go.Figure(data = data)"
   ]
  },
  {
   "cell_type": "code",
   "execution_count": null,
   "metadata": {},
   "outputs": [],
   "source": [
    "pyo.iplot(fig)"
   ]
  },
  {
   "cell_type": "code",
   "execution_count": null,
   "metadata": {},
   "outputs": [],
   "source": []
  },
  {
   "cell_type": "code",
   "execution_count": null,
   "metadata": {},
   "outputs": [],
   "source": []
  },
  {
   "cell_type": "code",
   "execution_count": null,
   "metadata": {},
   "outputs": [],
   "source": []
  },
  {
   "cell_type": "markdown",
   "metadata": {},
   "source": [
    "### Solution"
   ]
  },
  {
   "cell_type": "code",
   "execution_count": 31,
   "metadata": {},
   "outputs": [],
   "source": [
    "trace_list = []\n",
    "\n",
    "for team_name in unique_name:\n",
    "    trace_temp   = go.Box(\n",
    "                          y    = nba_df[nba_df['team'] == team_name]['age'],\n",
    "                          name = team_name\n",
    "                         )\n",
    "    trace_list.append(trace_temp)\n",
    "    \n",
    "data = trace_list"
   ]
  },
  {
   "cell_type": "code",
   "execution_count": 32,
   "metadata": {},
   "outputs": [],
   "source": [
    "fig = go.Figure(data = data)"
   ]
  },
  {
   "cell_type": "code",
   "execution_count": 33,
   "metadata": {},
   "outputs": [
    {
     "data": {
      "application/vnd.plotly.v1+json": {
       "config": {
        "linkText": "Export to plot.ly",
        "plotlyServerURL": "https://plot.ly",
        "responsive": true,
        "showLink": false
       },
       "data": [
        {
         "name": "Bulls",
         "type": "box",
         "uid": "f67120db-cba7-4d83-a3d2-07e7cb2710c4",
         "y": [
          32,
          24,
          29,
          23,
          30,
          21,
          25,
          23,
          23,
          23,
          24,
          22
         ]
        },
        {
         "name": "Hornets",
         "type": "box",
         "uid": "4f2c398e-cf04-4e65-b984-0a6bbb983dc9",
         "y": [
          22,
          29,
          25,
          24,
          24,
          25,
          24,
          26,
          25,
          20,
          24,
          28,
          32,
          25
         ]
        },
        {
         "name": "Blazers",
         "type": "box",
         "uid": "aca08304-4249-4b88-84df-2872e78ab0fe",
         "y": [
          27,
          22,
          25,
          27,
          29,
          25,
          24,
          26,
          28,
          26,
          24,
          21,
          29
         ]
        },
        {
         "name": "Pacers",
         "type": "box",
         "uid": "078c708c-b57a-4f33-83ec-fe2ed2669848",
         "y": [
          19,
          30,
          30,
          28,
          33,
          26,
          26,
          23,
          28,
          26,
          24,
          22,
          22,
          22,
          26,
          30
         ]
        },
        {
         "name": "Nets",
         "type": "box",
         "uid": "bd7a483b-1b07-4cd3-97ca-78a7e7faf6c0",
         "y": [
          27,
          20,
          31,
          26,
          31,
          25,
          24,
          33,
          28,
          26,
          23,
          27,
          22,
          22
         ]
        },
        {
         "name": "Celtics",
         "type": "box",
         "uid": "222d59fa-21c3-4d46-a4fd-6d6167c89b5b",
         "y": [
          25,
          31,
          21,
          30,
          28,
          32,
          26,
          25,
          28,
          28,
          24,
          23,
          24,
          30,
          24,
          20
         ]
        },
        {
         "name": "Kings",
         "type": "box",
         "uid": "c155ffc1-9932-4824-af61-90eca5f4a9c8",
         "y": [
          41,
          24,
          21,
          20,
          23,
          24,
          29,
          22,
          24,
          25,
          37,
          25,
          28
         ]
        },
        {
         "name": "Jazz",
         "type": "box",
         "uid": "84ee29aa-8524-47d2-ba1a-4216bb97858b",
         "y": [
          20,
          27,
          28,
          27,
          26,
          24,
          21,
          25,
          27,
          34,
          27,
          31
         ]
        },
        {
         "name": "Magic",
         "type": "box",
         "uid": "a8c83e2e-54e2-4a74-8dd2-f60db58ffc1a",
         "y": [
          32,
          30,
          25,
          25,
          22,
          25,
          23,
          22,
          32,
          27,
          28,
          27
         ]
        },
        {
         "name": "Nuggets",
         "type": "box",
         "uid": "799e02df-b9b7-405b-9523-3c8af93844a2",
         "y": [
          27,
          21,
          27,
          35,
          23,
          38,
          22,
          22,
          33,
          23,
          21,
          28,
          29,
          23
         ]
        },
        {
         "name": "Sixers",
         "type": "box",
         "uid": "814b8a69-2851-4de3-a90a-c300b3c9a5c8",
         "y": [
          24,
          29,
          31,
          27,
          24,
          20,
          24,
          31,
          23,
          31,
          26,
          34,
          22
         ]
        },
        {
         "name": "Hawks",
         "type": "box",
         "uid": "b32ad8c8-468a-4e14-bf9b-1e9c6830f467",
         "y": [
          29,
          24,
          20,
          28,
          29,
          30,
          29,
          27,
          29,
          24,
          24
         ]
        },
        {
         "name": "Lakers",
         "type": "box",
         "uid": "125888c4-4f49-47fc-b59f-e69d4cf47067",
         "y": [
          20,
          25,
          24,
          33,
          23,
          32,
          20,
          33,
          22,
          30,
          25,
          32,
          27,
          27
         ]
        },
        {
         "name": "Suns",
         "type": "box",
         "uid": "fd4122eb-d1e6-4224-bcd1-1b94f229c502",
         "y": [
          33,
          30,
          21,
          35,
          21,
          27,
          24,
          25,
          24
         ]
        },
        {
         "name": "Raptors",
         "type": "box",
         "uid": "65dce301-5859-490a-a2b7-2f420d74e0cf",
         "y": [
          21,
          27,
          31,
          28,
          27,
          32,
          31,
          25,
          24,
          26,
          24,
          26
         ]
        },
        {
         "name": "Knicks",
         "type": "box",
         "uid": "84f8c9ca-d52d-4e1f-9969-e6da6e6ad395",
         "y": [
          25,
          29,
          25,
          24,
          26,
          23,
          23,
          34,
          26,
          23,
          32,
          33,
          30,
          23
         ]
        },
        {
         "name": "Bucks",
         "type": "box",
         "uid": "a68a6699-7fbb-4318-88e5-60e510d4c3d2",
         "y": [
          23,
          28,
          25,
          23,
          27,
          27,
          28,
          30,
          26,
          25,
          26,
          26,
          26,
          40,
          28
         ]
        },
        {
         "name": "Pelicans",
         "type": "box",
         "uid": "2550155a-e3f4-4f6d-9973-1e3863255636",
         "y": [
          30,
          25,
          21,
          27,
          28,
          30,
          28,
          29,
          35,
          24,
          23
         ]
        },
        {
         "name": "Grizzlies",
         "type": "box",
         "uid": "8104dd4a-63bc-490b-a1bd-fe603ffe0aaa",
         "y": [
          24,
          22,
          29,
          30,
          32,
          30,
          33,
          28,
          23,
          24,
          29,
          21,
          32,
          25
         ]
        },
        {
         "name": "Thunder",
         "type": "box",
         "uid": "62cdd53b-6ce6-48d8-8cd5-7d31670b2d7c",
         "y": [
          25,
          34,
          32,
          21,
          34,
          28,
          24,
          22,
          26,
          24,
          29,
          26,
          30,
          29
         ]
        },
        {
         "name": "Pistons",
         "type": "box",
         "uid": "ad3b951a-66ca-4634-8216-3107daaa502a",
         "y": [
          27,
          29,
          36,
          24,
          21,
          28,
          23,
          26,
          29,
          28,
          22,
          22,
          29,
          26,
          36,
          34,
          24,
          30
         ]
        },
        {
         "name": "Heat",
         "type": "box",
         "uid": "8f753c29-c481-4e04-92e9-a0b5f86e508d",
         "y": [
          29,
          32,
          30,
          38,
          31,
          26,
          21,
          26,
          24,
          27,
          24,
          36,
          26,
          23,
          29,
          22
         ]
        },
        {
         "name": "Timberwolves",
         "type": "box",
         "uid": "abfd8212-2688-4761-b3e6-43c7612de58f",
         "y": [
          33,
          25,
          28,
          38,
          28,
          24,
          33,
          22,
          21,
          29,
          30,
          33,
          22,
          23
         ]
        },
        {
         "name": "Wizards",
         "type": "box",
         "uid": "3201f9d7-85ea-4c1c-892b-81211d07ec4e",
         "y": [
          25,
          20,
          31,
          32,
          30,
          31,
          30,
          28,
          22,
          25,
          25,
          32,
          32,
          27
         ]
        },
        {
         "name": "Clippers",
         "type": "box",
         "uid": "0f22e6d3-c4d5-4a5b-9a24-e3f9a28237ff",
         "y": [
          30,
          27,
          24,
          29,
          34,
          24,
          26,
          31,
          31,
          30,
          23,
          24,
          28,
          31
         ]
        },
        {
         "name": "Spurs",
         "type": "box",
         "uid": "a8e356de-b20e-47b5-9d07-72df22156425",
         "y": [
          33,
          32,
          24,
          28,
          24,
          38,
          31,
          40,
          25,
          29,
          21,
          22,
          24
         ]
        },
        {
         "name": "Warriors",
         "type": "box",
         "uid": "0d3f954e-a012-4bfa-8610-6c659ecf22b6",
         "y": [
          25,
          27,
          30,
          29,
          28,
          34,
          31,
          25,
          32,
          22,
          22,
          28,
          37,
          33
         ]
        },
        {
         "name": "Mavericks",
         "type": "box",
         "uid": "4894e654-0969-48cd-8c1d-e6f6e90a76b9",
         "y": [
          34,
          26,
          25,
          30,
          31,
          40,
          27,
          20
         ]
        },
        {
         "name": "Cavaliers",
         "type": "box",
         "uid": "3c44a5f9-0b80-4b8b-93ac-217a444f7dbe",
         "y": [
          26,
          35,
          32,
          25,
          37,
          29,
          25,
          32,
          27
         ]
        },
        {
         "name": "Rockets",
         "type": "box",
         "uid": "95bfb018-66a4-4393-880e-1057a4639dbd",
         "y": [
          30,
          26,
          26,
          29,
          32,
          28,
          37,
          33,
          33
         ]
        }
       ],
       "layout": {}
      },
      "text/html": [
       "<div>\n",
       "        \n",
       "        \n",
       "            <div id=\"e8bd33b9-9f3e-4a2c-8a23-0ea5ee6b6646\" class=\"plotly-graph-div\"></div>\n",
       "            <script type=\"text/javascript\">\n",
       "                require([\"plotly\"], function(Plotly) {\n",
       "                    window.PLOTLYENV=window.PLOTLYENV || {};\n",
       "                    window.PLOTLYENV.BASE_URL='https://plot.ly';\n",
       "                    \n",
       "                if (document.getElementById(\"e8bd33b9-9f3e-4a2c-8a23-0ea5ee6b6646\")) {\n",
       "                    Plotly.newPlot(\n",
       "                        'e8bd33b9-9f3e-4a2c-8a23-0ea5ee6b6646',\n",
       "                        [{\"name\": \"Bulls\", \"type\": \"box\", \"uid\": \"aa374199-4027-4e7a-8862-e9b977771d29\", \"y\": [32, 24, 29, 23, 30, 21, 25, 23, 23, 23, 24, 22]}, {\"name\": \"Hornets\", \"type\": \"box\", \"uid\": \"93b48ac6-a3a6-4302-86dd-97b4a4e33fbe\", \"y\": [22, 29, 25, 24, 24, 25, 24, 26, 25, 20, 24, 28, 32, 25]}, {\"name\": \"Blazers\", \"type\": \"box\", \"uid\": \"8a8cbce3-2cd2-4cf4-be57-678c929aabdf\", \"y\": [27, 22, 25, 27, 29, 25, 24, 26, 28, 26, 24, 21, 29]}, {\"name\": \"Pacers\", \"type\": \"box\", \"uid\": \"888382f8-c221-4833-bf94-6629b49a533c\", \"y\": [19, 30, 30, 28, 33, 26, 26, 23, 28, 26, 24, 22, 22, 22, 26, 30]}, {\"name\": \"Nets\", \"type\": \"box\", \"uid\": \"fd968db4-147a-4afa-983b-93445a54775c\", \"y\": [27, 20, 31, 26, 31, 25, 24, 33, 28, 26, 23, 27, 22, 22]}, {\"name\": \"Celtics\", \"type\": \"box\", \"uid\": \"41d3dd9e-bead-4e2d-948b-e511c996d2cd\", \"y\": [25, 31, 21, 30, 28, 32, 26, 25, 28, 28, 24, 23, 24, 30, 24, 20]}, {\"name\": \"Kings\", \"type\": \"box\", \"uid\": \"1c03c2ed-e845-421f-be23-a1a847cf01ac\", \"y\": [41, 24, 21, 20, 23, 24, 29, 22, 24, 25, 37, 25, 28]}, {\"name\": \"Jazz\", \"type\": \"box\", \"uid\": \"5d2f3e6a-2f67-46fc-86ef-d182eec09662\", \"y\": [20, 27, 28, 27, 26, 24, 21, 25, 27, 34, 27, 31]}, {\"name\": \"Magic\", \"type\": \"box\", \"uid\": \"5844642e-6362-438f-92bf-bdde570bb243\", \"y\": [32, 30, 25, 25, 22, 25, 23, 22, 32, 27, 28, 27]}, {\"name\": \"Nuggets\", \"type\": \"box\", \"uid\": \"a44812da-f76d-4459-a609-792e1172f632\", \"y\": [27, 21, 27, 35, 23, 38, 22, 22, 33, 23, 21, 28, 29, 23]}, {\"name\": \"Sixers\", \"type\": \"box\", \"uid\": \"889d91d7-f4e8-4481-a75c-41c23892fac8\", \"y\": [24, 29, 31, 27, 24, 20, 24, 31, 23, 31, 26, 34, 22]}, {\"name\": \"Hawks\", \"type\": \"box\", \"uid\": \"6ad0c850-24db-4629-b586-e1655d6721a5\", \"y\": [29, 24, 20, 28, 29, 30, 29, 27, 29, 24, 24]}, {\"name\": \"Lakers\", \"type\": \"box\", \"uid\": \"ea1652f2-c430-489e-87b0-d91b630d3251\", \"y\": [20, 25, 24, 33, 23, 32, 20, 33, 22, 30, 25, 32, 27, 27]}, {\"name\": \"Suns\", \"type\": \"box\", \"uid\": \"e14f1e6f-4fff-469e-b1a8-ba0cf83b5b36\", \"y\": [33, 30, 21, 35, 21, 27, 24, 25, 24]}, {\"name\": \"Raptors\", \"type\": \"box\", \"uid\": \"204a7efe-c0be-4d52-b453-45e2546ebd90\", \"y\": [21, 27, 31, 28, 27, 32, 31, 25, 24, 26, 24, 26]}, {\"name\": \"Knicks\", \"type\": \"box\", \"uid\": \"3bab8bc2-b806-41c2-8fd0-db24bec950bc\", \"y\": [25, 29, 25, 24, 26, 23, 23, 34, 26, 23, 32, 33, 30, 23]}, {\"name\": \"Bucks\", \"type\": \"box\", \"uid\": \"87f0dcbd-1bd5-40ce-be38-c22a455a6e01\", \"y\": [23, 28, 25, 23, 27, 27, 28, 30, 26, 25, 26, 26, 26, 40, 28]}, {\"name\": \"Pelicans\", \"type\": \"box\", \"uid\": \"872f319c-3bbc-4320-8768-3a6a95ef3425\", \"y\": [30, 25, 21, 27, 28, 30, 28, 29, 35, 24, 23]}, {\"name\": \"Grizzlies\", \"type\": \"box\", \"uid\": \"d01161e3-7558-4b89-abca-256d22f36f99\", \"y\": [24, 22, 29, 30, 32, 30, 33, 28, 23, 24, 29, 21, 32, 25]}, {\"name\": \"Thunder\", \"type\": \"box\", \"uid\": \"6a29853e-42c4-404d-b9d3-5a3689b10e4f\", \"y\": [25, 34, 32, 21, 34, 28, 24, 22, 26, 24, 29, 26, 30, 29]}, {\"name\": \"Pistons\", \"type\": \"box\", \"uid\": \"89f545ce-7db8-43b9-acab-96d8c0424db6\", \"y\": [27, 29, 36, 24, 21, 28, 23, 26, 29, 28, 22, 22, 29, 26, 36, 34, 24, 30]}, {\"name\": \"Heat\", \"type\": \"box\", \"uid\": \"444f4ee3-6488-4ceb-b79e-4b7483d3fef9\", \"y\": [29, 32, 30, 38, 31, 26, 21, 26, 24, 27, 24, 36, 26, 23, 29, 22]}, {\"name\": \"Timberwolves\", \"type\": \"box\", \"uid\": \"3063197f-5276-42de-89db-f145cdb85d38\", \"y\": [33, 25, 28, 38, 28, 24, 33, 22, 21, 29, 30, 33, 22, 23]}, {\"name\": \"Wizards\", \"type\": \"box\", \"uid\": \"03199498-b40d-45b8-abb4-c1db0518a2ac\", \"y\": [25, 20, 31, 32, 30, 31, 30, 28, 22, 25, 25, 32, 32, 27]}, {\"name\": \"Clippers\", \"type\": \"box\", \"uid\": \"c4b817c5-ce75-49f3-aeed-c705182bd377\", \"y\": [30, 27, 24, 29, 34, 24, 26, 31, 31, 30, 23, 24, 28, 31]}, {\"name\": \"Spurs\", \"type\": \"box\", \"uid\": \"db203487-a271-4b57-9130-a5e231e1a314\", \"y\": [33, 32, 24, 28, 24, 38, 31, 40, 25, 29, 21, 22, 24]}, {\"name\": \"Warriors\", \"type\": \"box\", \"uid\": \"51412b71-f931-4a16-904d-87bb67522838\", \"y\": [25, 27, 30, 29, 28, 34, 31, 25, 32, 22, 22, 28, 37, 33]}, {\"name\": \"Mavericks\", \"type\": \"box\", \"uid\": \"c926d3c6-cd5d-4fd8-9cde-99c7ed31f515\", \"y\": [34, 26, 25, 30, 31, 40, 27, 20]}, {\"name\": \"Cavaliers\", \"type\": \"box\", \"uid\": \"42a727c1-9f72-476d-a90b-be8149f303ce\", \"y\": [26, 35, 32, 25, 37, 29, 25, 32, 27]}, {\"name\": \"Rockets\", \"type\": \"box\", \"uid\": \"37a69635-19ec-4f9f-92e8-4727824ba77c\", \"y\": [30, 26, 26, 29, 32, 28, 37, 33, 33]}],\n",
       "                        {},\n",
       "                        {\"showLink\": false, \"linkText\": \"Export to plot.ly\", \"plotlyServerURL\": \"https://plot.ly\", \"responsive\": true}\n",
       "                    )\n",
       "                };\n",
       "                });\n",
       "            </script>\n",
       "        </div>"
      ]
     },
     "metadata": {},
     "output_type": "display_data"
    }
   ],
   "source": [
    "pyo.iplot(fig)"
   ]
  },
  {
   "cell_type": "markdown",
   "metadata": {},
   "source": [
    "### ถ้า for loop ยังยาวไป\n",
    "เราสามารถนำ list comprehension มาใช้ในการสร้าง list ได้"
   ]
  },
  {
   "cell_type": "markdown",
   "metadata": {},
   "source": [
    "### 3. Box Plot with pandas + List comprehension "
   ]
  },
  {
   "cell_type": "markdown",
   "metadata": {},
   "source": [
    "<img src = \"pic_data/the_watch_quote.png\" width = 700>"
   ]
  },
  {
   "cell_type": "code",
   "execution_count": null,
   "metadata": {
    "scrolled": true
   },
   "outputs": [],
   "source": [
    "# 1- read data\n",
    "watch_df = pd.read_excel('watch_data_aggregated_nopic.xlsx', sheet_name = 'ALL')\n",
    "watch_df.head()"
   ]
  },
  {
   "cell_type": "markdown",
   "metadata": {},
   "source": [
    "#### recall dataframe manipulation"
   ]
  },
  {
   "cell_type": "code",
   "execution_count": null,
   "metadata": {},
   "outputs": [],
   "source": [
    "# sort_values by price\n",
    "watch_mean_df = watch_df.groupby(['Brand']).mean()[['Price_THB']].dropna().sort_values('Price_THB', ascending = False)\n",
    "# get index after sorted\n",
    "brand_unique = watch_mean_df.index\n",
    "brand_unique"
   ]
  },
  {
   "cell_type": "code",
   "execution_count": null,
   "metadata": {},
   "outputs": [],
   "source": [
    "watch_df.head()"
   ]
  },
  {
   "cell_type": "code",
   "execution_count": null,
   "metadata": {},
   "outputs": [],
   "source": [
    "# to get price from each brand\n",
    "watch_df['Price_THB'][watch_df['Brand'] == 'Tudor']"
   ]
  },
  {
   "cell_type": "code",
   "execution_count": null,
   "metadata": {},
   "outputs": [],
   "source": [
    "# list conprehension\n",
    "trend = [watch_df['Price_THB'][watch_df['Brand'] == brand] for brand in brand_unique]\n",
    "len(trend)"
   ]
  },
  {
   "cell_type": "markdown",
   "metadata": {},
   "source": [
    "### plotting using plotly"
   ]
  },
  {
   "cell_type": "code",
   "execution_count": null,
   "metadata": {},
   "outputs": [],
   "source": [
    "data = [go.Box(\n",
    "                y = watch_df['Price_THB'][watch_df['Brand'] == brand],\n",
    "                name = brand\n",
    "              )\n",
    "        \n",
    "        for brand in brand_unique\n",
    "       ]\n"
   ]
  },
  {
   "cell_type": "code",
   "execution_count": null,
   "metadata": {},
   "outputs": [],
   "source": [
    "layout = go.Layout(title = 'ราคา นาฬิกาหรู ตาม Brand',\n",
    "                    yaxis=dict(\n",
    "                               range = [0, 40000000],\n",
    "                               autorange=False,\n",
    "                               title = 'Price THB'\n",
    "                              )\n",
    "                  )\n",
    "layout"
   ]
  },
  {
   "cell_type": "code",
   "execution_count": null,
   "metadata": {},
   "outputs": [],
   "source": [
    "fig = go.Figure(data   = data,\n",
    "                layout = layout)\n",
    "\n",
    "pyo.iplot(fig)"
   ]
  },
  {
   "cell_type": "markdown",
   "metadata": {},
   "source": [
    "### Extra Various options to show the plot"
   ]
  },
  {
   "cell_type": "markdown",
   "metadata": {},
   "source": [
    "#### 4.1 show inside the jupyter notebook"
   ]
  },
  {
   "cell_type": "code",
   "execution_count": null,
   "metadata": {},
   "outputs": [],
   "source": [
    "pyo.iplot(fig)"
   ]
  },
  {
   "cell_type": "markdown",
   "metadata": {},
   "source": [
    "#### 4.2 show as web page"
   ]
  },
  {
   "cell_type": "code",
   "execution_count": null,
   "metadata": {},
   "outputs": [],
   "source": [
    "pyo.plot(fig, filename='watch_box_webpage.html') "
   ]
  },
  {
   "cell_type": "markdown",
   "metadata": {},
   "source": [
    "#### 4.3 Show as plotly public data\n",
    "\n",
    "Need registration at plotly cloud"
   ]
  },
  {
   "cell_type": "code",
   "execution_count": null,
   "metadata": {},
   "outputs": [],
   "source": [
    "import plotly.plotly as py\n",
    "\n",
    "py.plot(fig, filename = 'watch_box_public')"
   ]
  },
  {
   "cell_type": "markdown",
   "metadata": {},
   "source": [
    "#### 4.4 save as static figure\n",
    "\n",
    "Need pip install additional module \n",
    "\n",
    "conda install -c plotly plotly-orca"
   ]
  },
  {
   "cell_type": "code",
   "execution_count": null,
   "metadata": {},
   "outputs": [],
   "source": [
    "import plotly.io as pio\n",
    "# conda install -c plotly plotly-orca\n",
    "#pyo.plot(data, image_filename='xxx', image='png')\n",
    "\n",
    "pio.write_image(fig, 'watch_box_fig_export.png')"
   ]
  },
  {
   "cell_type": "code",
   "execution_count": null,
   "metadata": {},
   "outputs": [],
   "source": []
  },
  {
   "cell_type": "code",
   "execution_count": null,
   "metadata": {},
   "outputs": [],
   "source": []
  }
 ],
 "metadata": {
  "kernelspec": {
   "display_name": "Python 3",
   "language": "python",
   "name": "python3"
  },
  "language_info": {
   "codemirror_mode": {
    "name": "ipython",
    "version": 3
   },
   "file_extension": ".py",
   "mimetype": "text/x-python",
   "name": "python",
   "nbconvert_exporter": "python",
   "pygments_lexer": "ipython3",
   "version": "3.7.0"
  }
 },
 "nbformat": 4,
 "nbformat_minor": 2
}
