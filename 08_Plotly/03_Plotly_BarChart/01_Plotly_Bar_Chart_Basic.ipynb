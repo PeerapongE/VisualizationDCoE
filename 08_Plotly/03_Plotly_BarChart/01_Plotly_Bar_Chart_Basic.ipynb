{
 "cells": [
  {
   "cell_type": "markdown",
   "metadata": {},
   "source": [
    "## Interactive Plot: Plotly\n",
    "\n",
    "https://plot.ly/python/bar-charts/"
   ]
  },
  {
   "cell_type": "markdown",
   "metadata": {},
   "source": [
    "### Import module"
   ]
  },
  {
   "cell_type": "code",
   "execution_count": null,
   "metadata": {},
   "outputs": [],
   "source": [
    "import plotly.offline as pyo\n",
    "import plotly.graph_objs as go\n",
    "import pandas as pd\n",
    "pyo.init_notebook_mode(connected=True) "
   ]
  },
  {
   "cell_type": "markdown",
   "metadata": {},
   "source": [
    "### 1. Basic bar chart "
   ]
  },
  {
   "cell_type": "code",
   "execution_count": null,
   "metadata": {},
   "outputs": [],
   "source": [
    "# create data\n",
    "# use go.Bar istead of go.Scatter\n",
    "trace = go.Bar(\n",
    "            x=['giraffes', 'orangutans', 'monkeys'],\n",
    "            y=[20, 14, 23]\n",
    "              )\n",
    "\n",
    "# group data to trace\n",
    "data = [trace]\n",
    "\n",
    "# create figure\n",
    "fig = go.Figure(data = data)\n",
    "\n",
    "pyo.iplot(fig)"
   ]
  },
  {
   "cell_type": "markdown",
   "metadata": {},
   "source": [
    "### 2. Bar chart decoration"
   ]
  },
  {
   "cell_type": "code",
   "execution_count": null,
   "metadata": {},
   "outputs": [],
   "source": [
    "trace = go.Bar(\n",
    "            x=['giraffes', 'orangutans', 'monkeys'],\n",
    "            y=[20, 14, 23]\n",
    "              )\n",
    "\n",
    "# group data to trace\n",
    "data = [trace]"
   ]
  },
  {
   "cell_type": "code",
   "execution_count": null,
   "metadata": {},
   "outputs": [],
   "source": [
    "# specify layout information\n",
    "\n",
    "layout = go.Layout(title = 'This is Basic Bar Chart in Plotly', # Graph title\n",
    "                   xaxis = {'title': 'Animal Type'}, # x-axis label\n",
    "                   yaxis = {'title': 'Number of animal'}, # y-axis label\n",
    "                   hovermode ='closest' # handles multiple points landing on the same vertical\n",
    ")"
   ]
  },
  {
   "cell_type": "code",
   "execution_count": null,
   "metadata": {},
   "outputs": [],
   "source": [
    "# create figure\n",
    "fig = go.Figure(data = data, layout = layout)"
   ]
  },
  {
   "cell_type": "code",
   "execution_count": null,
   "metadata": {},
   "outputs": [],
   "source": [
    "pyo.iplot(fig)"
   ]
  },
  {
   "cell_type": "markdown",
   "metadata": {},
   "source": [
    "## 3. Multiple bar chart"
   ]
  },
  {
   "cell_type": "code",
   "execution_count": null,
   "metadata": {},
   "outputs": [],
   "source": [
    "# create multiple go.Bar object\n",
    "trace1 = go.Bar(\n",
    "    x=['giraffes', 'orangutans', 'monkeys'],\n",
    "    y=[20, 14, 23],\n",
    "    name='SF Zoo'\n",
    ")\n",
    "trace2 = go.Bar(\n",
    "    x=['giraffes', 'orangutans', 'monkeys'],\n",
    "    y=[12, 18, 29],\n",
    "    name='LA Zoo'\n",
    ")\n",
    "\n",
    "data = [trace1, trace2]\n"
   ]
  },
  {
   "cell_type": "code",
   "execution_count": null,
   "metadata": {},
   "outputs": [],
   "source": [
    "# specify layout information\n",
    "\n",
    "layout = go.Layout(title = 'This is Basic Bar Chart in Plotly', # Graph title\n",
    "                   xaxis = {'title': 'Animal Type'}, # x-axis label\n",
    "                   yaxis = {'title': 'Number of animal'}, # y-axis label\n",
    "                   hovermode ='closest', # handles multiple points landing on the same vertical\n",
    "                   \n",
    "                   barmode = 'group'\n",
    ")\n"
   ]
  },
  {
   "cell_type": "code",
   "execution_count": null,
   "metadata": {},
   "outputs": [],
   "source": [
    "# create figure object\n",
    "fig = go.Figure(data=data, layout=layout)\n",
    "\n",
    "# plot\n",
    "pyo.iplot(fig)"
   ]
  },
  {
   "cell_type": "markdown",
   "metadata": {},
   "source": [
    "### 4. Barchart with pandas "
   ]
  },
  {
   "cell_type": "markdown",
   "metadata": {},
   "source": [
    "<img src = \"pic_data/the_watch_quote.png\" width = 700>"
   ]
  },
  {
   "cell_type": "code",
   "execution_count": null,
   "metadata": {
    "scrolled": true
   },
   "outputs": [],
   "source": [
    "# 1- read data\n",
    "watch_df = pd.read_excel('watch_data_aggregated_nopic.xlsx', sheet_name = 'ALL')\n",
    "watch_df.head()"
   ]
  },
  {
   "cell_type": "markdown",
   "metadata": {},
   "source": [
    "#### recall dataframe manipulation"
   ]
  },
  {
   "cell_type": "code",
   "execution_count": null,
   "metadata": {},
   "outputs": [],
   "source": [
    "# 2: group by\n",
    "watch_df.groupby(['Brand']).mean()"
   ]
  },
  {
   "cell_type": "code",
   "execution_count": null,
   "metadata": {},
   "outputs": [],
   "source": [
    "# 3: select specific column\n",
    "watch_df.groupby(['Brand']).mean()[['Price_THB']]"
   ]
  },
  {
   "cell_type": "code",
   "execution_count": null,
   "metadata": {},
   "outputs": [],
   "source": [
    "# 4: dropna\n",
    "watch_df.groupby(['Brand']).mean()[['Price_THB']].dropna()"
   ]
  },
  {
   "cell_type": "code",
   "execution_count": null,
   "metadata": {},
   "outputs": [],
   "source": [
    "# 5: sort_values\n",
    "watch_mean_df = watch_df.groupby(['Brand']).mean()[['Price_THB']].dropna().sort_values('Price_THB', ascending = False)\n",
    "watch_mean_df"
   ]
  },
  {
   "cell_type": "markdown",
   "metadata": {},
   "source": [
    "#### plotting with plotly: Basic"
   ]
  },
  {
   "cell_type": "code",
   "execution_count": null,
   "metadata": {},
   "outputs": [],
   "source": [
    "trace = go.Bar(\n",
    "               x = watch_mean_df.index,\n",
    "               y = watch_mean_df['Price_THB']\n",
    "              )\n",
    "\n",
    "# group data to trace\n",
    "data = [trace]"
   ]
  },
  {
   "cell_type": "code",
   "execution_count": null,
   "metadata": {},
   "outputs": [],
   "source": [
    "pyo.iplot(data)"
   ]
  },
  {
   "cell_type": "markdown",
   "metadata": {},
   "source": [
    "### Plot with multiple data"
   ]
  },
  {
   "cell_type": "code",
   "execution_count": null,
   "metadata": {},
   "outputs": [],
   "source": [
    "# get all variable\n",
    "watch_mean_df = watch_df.groupby(['Brand']).mean()[['Price_THB']].dropna().sort_values('Price_THB', ascending = False)\n",
    "watch_min_df  = watch_df.groupby(['Brand']).min()[['Price_THB']].dropna().sort_values('Price_THB', ascending = False)\n",
    "watch_max_df  = watch_df.groupby(['Brand']).max()[['Price_THB']].dropna().sort_values('Price_THB', ascending = False)"
   ]
  },
  {
   "cell_type": "code",
   "execution_count": null,
   "metadata": {},
   "outputs": [],
   "source": [
    "\n",
    "trace0 = go.Bar(\n",
    "               x = watch_min_df.index,\n",
    "               y = watch_min_df['Price_THB'],\n",
    "               name = 'min'\n",
    "              )\n",
    "\n",
    "trace1 = go.Bar(\n",
    "               x = watch_mean_df.index,\n",
    "               y = watch_mean_df['Price_THB'],\n",
    "               name = 'mean'\n",
    "              )\n",
    "\n",
    "\n",
    "\n",
    "trace2 = go.Bar(\n",
    "               x = watch_max_df.index,\n",
    "               y = watch_max_df['Price_THB'],\n",
    "               name = 'max'\n",
    "              )\n",
    "\n",
    "\n",
    "layout = go.Layout(\n",
    "                    yaxis=dict(type='log',\n",
    "                    #autorange=True\n",
    "    )\n",
    ")\n",
    "\n",
    "# group data to trace\n",
    "data = [trace0, trace1, trace2]"
   ]
  },
  {
   "cell_type": "code",
   "execution_count": null,
   "metadata": {},
   "outputs": [],
   "source": [
    "fig = go.Figure(data=data, layout=layout)\n",
    "\n",
    "pyo.iplot(fig)"
   ]
  },
  {
   "cell_type": "markdown",
   "metadata": {},
   "source": [
    "### Exercise\n",
    "\n",
    "plot อายุเฉลี่ยของ NBA player แยกตาม team"
   ]
  },
  {
   "cell_type": "code",
   "execution_count": null,
   "metadata": {},
   "outputs": [],
   "source": [
    "nba_df = pd.read_excel('Data_NBA_Player_trim.xlsx', sheet_name = 'data')\n",
    "nba_df.head()"
   ]
  },
  {
   "cell_type": "code",
   "execution_count": null,
   "metadata": {},
   "outputs": [],
   "source": [
    "# group by team and sort value\n",
    "nba_age_team = nba_df.groupby('team').mean()['age'].sort_values()\n",
    "nba_age_team"
   ]
  },
  {
   "cell_type": "code",
   "execution_count": null,
   "metadata": {},
   "outputs": [],
   "source": [
    "trace = go.xxxx(\n",
    "               x = xxxx,\n",
    "               y = xxxx\n",
    "              )\n",
    "\n",
    "# group data to trace\n",
    "data = [xxxx]"
   ]
  },
  {
   "cell_type": "code",
   "execution_count": null,
   "metadata": {},
   "outputs": [],
   "source": [
    "# specify layout information\n",
    "\n",
    "layout = go.Layout(title = 'NBA Age by team', # Graph title\n",
    "                   xaxis = {'title': 'Team'}, # x-axis label\n",
    "                   yaxis = {'title': 'Age'}, # y-axis label\n",
    "                   hovermode ='closest', # handles multiple points landing on the same vertical\n",
    ")\n"
   ]
  },
  {
   "cell_type": "code",
   "execution_count": null,
   "metadata": {},
   "outputs": [],
   "source": [
    "fig = go.Figure(data   = xxxx,\n",
    "                layout = xxxx\n",
    "               )\n",
    "\n",
    "pyo.iplot(xxxx)"
   ]
  },
  {
   "cell_type": "code",
   "execution_count": null,
   "metadata": {},
   "outputs": [],
   "source": []
  },
  {
   "cell_type": "code",
   "execution_count": null,
   "metadata": {},
   "outputs": [],
   "source": []
  },
  {
   "cell_type": "code",
   "execution_count": null,
   "metadata": {},
   "outputs": [],
   "source": []
  },
  {
   "cell_type": "code",
   "execution_count": null,
   "metadata": {},
   "outputs": [],
   "source": []
  },
  {
   "cell_type": "code",
   "execution_count": null,
   "metadata": {},
   "outputs": [],
   "source": []
  },
  {
   "cell_type": "code",
   "execution_count": null,
   "metadata": {},
   "outputs": [],
   "source": []
  },
  {
   "cell_type": "code",
   "execution_count": null,
   "metadata": {},
   "outputs": [],
   "source": []
  },
  {
   "cell_type": "markdown",
   "metadata": {},
   "source": [
    "### Solution"
   ]
  },
  {
   "cell_type": "code",
   "execution_count": null,
   "metadata": {},
   "outputs": [],
   "source": [
    "trace = go.Bar(\n",
    "               x = nba_age_team.index,\n",
    "               y = nba_age_team\n",
    "              )\n",
    "\n",
    "# group data to trace\n",
    "data = [trace]"
   ]
  },
  {
   "cell_type": "code",
   "execution_count": null,
   "metadata": {},
   "outputs": [],
   "source": [
    "# specify layout information\n",
    "\n",
    "layout = go.Layout(title = 'NBA Age by team', # Graph title\n",
    "                   xaxis = {'title': 'Team'}, # x-axis label\n",
    "                   yaxis = {'title': 'Age'}, # y-axis label\n",
    "                   hovermode ='closest', # handles multiple points landing on the same vertical\n",
    ")\n"
   ]
  },
  {
   "cell_type": "code",
   "execution_count": null,
   "metadata": {},
   "outputs": [],
   "source": [
    "fig = go.Figure(data   = data,\n",
    "                layout = layout\n",
    "               )\n",
    "\n",
    "pyo.iplot(fig)"
   ]
  },
  {
   "cell_type": "code",
   "execution_count": null,
   "metadata": {},
   "outputs": [],
   "source": []
  },
  {
   "cell_type": "markdown",
   "metadata": {},
   "source": [
    "### Extra Various options to show the plot"
   ]
  },
  {
   "cell_type": "markdown",
   "metadata": {},
   "source": [
    "#### 4.1 show inside the jupyter notebook"
   ]
  },
  {
   "cell_type": "code",
   "execution_count": null,
   "metadata": {
    "scrolled": true
   },
   "outputs": [],
   "source": [
    "pyo.iplot(fig)"
   ]
  },
  {
   "cell_type": "markdown",
   "metadata": {},
   "source": [
    "#### 4.2 show as web page"
   ]
  },
  {
   "cell_type": "code",
   "execution_count": null,
   "metadata": {},
   "outputs": [],
   "source": [
    "pyo.plot(fig, filename='watch_plotly_online_webpage.html') "
   ]
  },
  {
   "cell_type": "markdown",
   "metadata": {},
   "source": [
    "#### 4.3 Show as plotly public data\n",
    "\n",
    "Need registration at plotly cloud"
   ]
  },
  {
   "cell_type": "code",
   "execution_count": null,
   "metadata": {},
   "outputs": [],
   "source": [
    "import plotly.plotly as py\n",
    "\n",
    "py.plot(fig, filename = 'watch_Show_plotly_public')"
   ]
  },
  {
   "cell_type": "markdown",
   "metadata": {},
   "source": [
    "#### 4.4 save as static figure\n",
    "\n",
    "Need pip install additional module \n",
    "\n",
    "conda install -c plotly plotly-orca"
   ]
  },
  {
   "cell_type": "code",
   "execution_count": null,
   "metadata": {},
   "outputs": [],
   "source": [
    "import plotly.io as pio\n",
    "# conda install -c plotly plotly-orca\n",
    "#pyo.plot(data, image_filename='xxx', image='png')\n",
    "\n",
    "pio.write_image(fig, 'watch_fig_export.png')"
   ]
  },
  {
   "cell_type": "code",
   "execution_count": null,
   "metadata": {},
   "outputs": [],
   "source": []
  }
 ],
 "metadata": {
  "kernelspec": {
   "display_name": "Python 3",
   "language": "python",
   "name": "python3"
  },
  "language_info": {
   "codemirror_mode": {
    "name": "ipython",
    "version": 3
   },
   "file_extension": ".py",
   "mimetype": "text/x-python",
   "name": "python",
   "nbconvert_exporter": "python",
   "pygments_lexer": "ipython3",
   "version": "3.7.0"
  }
 },
 "nbformat": 4,
 "nbformat_minor": 2
}
