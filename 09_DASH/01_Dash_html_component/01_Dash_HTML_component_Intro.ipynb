{
 "cells": [
  {
   "cell_type": "markdown",
   "metadata": {},
   "source": [
    "### Dash HTML component\n",
    "#### Writing simple web with Python\n",
    "\n",
    "pic\n",
    "\n",
    "\n",
    "### Reference\n",
    "https://dash.plot.ly/dash-html-components"
   ]
  },
  {
   "cell_type": "code",
   "execution_count": null,
   "metadata": {},
   "outputs": [],
   "source": [
    "import dash\n",
    "import dash_html_components as html\n",
    "\n",
    "app = dash.Dash()\n",
    "\n",
    "app.layout = html.Div([\n",
    "                      html.H1('Hello Dash'), # H1: header\n",
    "                      html.Div([\n",
    "                                html.P('Dash converts Python classes into HTML'), # P: Paragraph\n",
    "                                html.P(\"This conversion happens behind the scenes by Dash's JavaScript front-end\") # P: Paragraph\n",
    "                              ])\n",
    "                      ])\n",
    "\n",
    "# =============================================================================\n",
    "# which gets converted (behind the scenes) into the following HTML in your web-app:\n",
    "# <div>\n",
    "#     <h1>Hello Dash</h1>\n",
    "#     <div>\n",
    "#         <p>Dash converts Python classes into HTML</p>\n",
    "#         <p>This conversion happens behind the scenes by Dash's JavaScript front-end</p>\n",
    "#     </div>\n",
    "# </div>\n",
    "# =============================================================================\n",
    "\n",
    "if __name__ == '__main__':\n",
    "    app.run_server()\n"
   ]
  },
  {
   "cell_type": "code",
   "execution_count": null,
   "metadata": {},
   "outputs": [],
   "source": []
  }
 ],
 "metadata": {
  "kernelspec": {
   "display_name": "Python 3",
   "language": "python",
   "name": "python3"
  },
  "language_info": {
   "codemirror_mode": {
    "name": "ipython",
    "version": 3
   },
   "file_extension": ".py",
   "mimetype": "text/x-python",
   "name": "python",
   "nbconvert_exporter": "python",
   "pygments_lexer": "ipython3",
   "version": "3.7.0"
  }
 },
 "nbformat": 4,
 "nbformat_minor": 2
}
