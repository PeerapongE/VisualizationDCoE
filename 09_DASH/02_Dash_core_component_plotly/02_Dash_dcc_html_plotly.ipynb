{
 "cells": [
  {
   "cell_type": "markdown",
   "metadata": {},
   "source": [
    "### Dash x Plotly\n",
    "#### Core Component and HTML component integration"
   ]
  },
  {
   "cell_type": "markdown",
   "metadata": {},
   "source": [
    "### Import module"
   ]
  },
  {
   "cell_type": "code",
   "execution_count": null,
   "metadata": {},
   "outputs": [],
   "source": [
    "import dash\n",
    "import dash_core_components as dcc\n",
    "import dash_html_components as html\n",
    "\n",
    "import plotly.graph_objs as go # for plotly object\n"
   ]
  },
  {
   "cell_type": "markdown",
   "metadata": {},
   "source": [
    "### Prepare plotly figure"
   ]
  },
  {
   "cell_type": "code",
   "execution_count": 1,
   "metadata": {},
   "outputs": [
    {
     "ename": "NameError",
     "evalue": "name 'go' is not defined",
     "output_type": "error",
     "traceback": [
      "\u001b[1;31m---------------------------------------------------------------------------\u001b[0m",
      "\u001b[1;31mNameError\u001b[0m                                 Traceback (most recent call last)",
      "\u001b[1;32m<ipython-input-1-4db549795e07>\u001b[0m in \u001b[0;36m<module>\u001b[1;34m()\u001b[0m\n\u001b[0;32m      1\u001b[0m \u001b[1;31m# prepare fig for bar_chart: fig_bar\u001b[0m\u001b[1;33m\u001b[0m\u001b[1;33m\u001b[0m\u001b[0m\n\u001b[0;32m      2\u001b[0m \u001b[1;33m\u001b[0m\u001b[0m\n\u001b[1;32m----> 3\u001b[1;33m trace = go.Bar(\n\u001b[0m\u001b[0;32m      4\u001b[0m               \u001b[0mx\u001b[0m \u001b[1;33m=\u001b[0m \u001b[1;33m[\u001b[0m\u001b[1;34m'giraffes'\u001b[0m\u001b[1;33m,\u001b[0m \u001b[1;34m'orangutans'\u001b[0m\u001b[1;33m,\u001b[0m \u001b[1;34m'monkeys'\u001b[0m\u001b[1;33m]\u001b[0m\u001b[1;33m,\u001b[0m\u001b[1;33m\u001b[0m\u001b[0m\n\u001b[0;32m      5\u001b[0m               \u001b[0my\u001b[0m \u001b[1;33m=\u001b[0m \u001b[1;33m[\u001b[0m\u001b[1;36m20\u001b[0m\u001b[1;33m,\u001b[0m \u001b[1;36m14\u001b[0m\u001b[1;33m,\u001b[0m \u001b[1;36m23\u001b[0m\u001b[1;33m]\u001b[0m\u001b[1;33m\u001b[0m\u001b[0m\n",
      "\u001b[1;31mNameError\u001b[0m: name 'go' is not defined"
     ]
    }
   ],
   "source": [
    "# prepare fig for bar_chart: fig_bar\n",
    "\n",
    "trace = go.Bar(\n",
    "              x = ['giraffes', 'orangutans', 'monkeys'],\n",
    "              y = [20, 14, 23]\n",
    "             )\n",
    "\n",
    "data = [trace]\n",
    "\n",
    "layout = go.Layout(title = 'This is Basic Bar Chart in Plotly', # Graph title\n",
    "                   xaxis = {'title': 'Animal Type'}, # x-axis label\n",
    "                   yaxis = {'title': 'Number of animal'}, # y-axis label\n",
    "                   hovermode ='closest' # handles multiple points landing on the same vertical\n",
    "                  )\n",
    "\n",
    "fig_bar =  go.Figure(data = data, layout = layout)\n",
    "fig_bar"
   ]
  },
  {
   "cell_type": "markdown",
   "metadata": {},
   "source": [
    "### Run Dash"
   ]
  },
  {
   "cell_type": "code",
   "execution_count": null,
   "metadata": {},
   "outputs": [],
   "source": [
    "app = dash.Dash() # create dash application"
   ]
  },
  {
   "cell_type": "code",
   "execution_count": null,
   "metadata": {},
   "outputs": [],
   "source": [
    "app.layout = html.Div([ html.H1('Hello Dash. This is HTML component'), # H1: header\n",
    "                        dcc.Graph( # ใช้ dcc.Graph\n",
    "                                 id='bar_chart_1', # ใส่ id ไปด้วย เพราะจะมีหลายตัว และใช้ตอนเรียก function\n",
    "                                 figure = fig_bar # เรียก fig_bar ที่เตรียมไว้เป็น Plotly\n",
    "                                 ),\n",
    "                        html.H2('You Just Completed Plotting dash.'),\n",
    "                        html.P('Add add another bar chart'),\n",
    "                        dcc.Graph( # ใช้ dcc.Graph\n",
    "                                 id='bar_chart_2', # ใส่ id ไปด้วย เพราะจะมีหลายตัว และใช้ตอนเรียก function\n",
    "                                 figure = fig_bar # เรียก fig_bar ที่เตรียมไว้เป็น Plotly\n",
    "                                 ),\n",
    "                       \n",
    "                      ])"
   ]
  },
  {
   "cell_type": "code",
   "execution_count": null,
   "metadata": {},
   "outputs": [],
   "source": [
    "if __name__ == '__main__':\n",
    "    app.run_server()"
   ]
  }
 ],
 "metadata": {
  "kernelspec": {
   "display_name": "Python 3",
   "language": "python",
   "name": "python3"
  },
  "language_info": {
   "codemirror_mode": {
    "name": "ipython",
    "version": 3
   },
   "file_extension": ".py",
   "mimetype": "text/x-python",
   "name": "python",
   "nbconvert_exporter": "python",
   "pygments_lexer": "ipython3",
   "version": "3.7.0"
  }
 },
 "nbformat": 4,
 "nbformat_minor": 2
}
